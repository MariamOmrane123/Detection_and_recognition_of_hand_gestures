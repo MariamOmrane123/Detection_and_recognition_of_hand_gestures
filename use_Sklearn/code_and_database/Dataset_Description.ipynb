{
 "cells": [
  {
   "cell_type": "code",
   "execution_count": 1,
   "metadata": {},
   "outputs": [],
   "source": [
    "#Importer les librairies necessaires\n",
    "import numpy as np\n",
    "import pandas as pd\n",
    "import csv\n",
    "import os\n",
    "import seaborn as sb"
   ]
  },
  {
   "cell_type": "code",
   "execution_count": 2,
   "metadata": {},
   "outputs": [],
   "source": [
    "dataset=pd.read_csv(\"Modified_Hand_Gesture_Recognition_Dataset.csv\")"
   ]
  },
  {
   "cell_type": "code",
   "execution_count": 3,
   "metadata": {},
   "outputs": [
    {
     "data": {
      "text/plain": [
       "(300, 29)"
      ]
     },
     "execution_count": 3,
     "metadata": {},
     "output_type": "execute_result"
    }
   ],
   "source": [
    "dataset.shape"
   ]
  },
  {
   "cell_type": "code",
   "execution_count": 4,
   "metadata": {},
   "outputs": [
    {
     "name": "stdout",
     "output_type": "stream",
     "text": [
      "<class 'pandas.core.frame.DataFrame'>\n",
      "RangeIndex: 300 entries, 0 to 299\n",
      "Data columns (total 29 columns):\n",
      "Unnamed: 0       300 non-null int64\n",
      "LC_X             300 non-null int64\n",
      "LC_Y             300 non-null int64\n",
      "LF_X_1           300 non-null int64\n",
      "LF_X_2           300 non-null int64\n",
      "LF_X_3           300 non-null int64\n",
      "LF_X_4           300 non-null int64\n",
      "LF_X_5           300 non-null int64\n",
      "LF_Y_1           300 non-null int64\n",
      "LF_Y_2           300 non-null int64\n",
      "LF_Y_3           300 non-null int64\n",
      "LF_Y_4           300 non-null int64\n",
      "LF_Y_5           300 non-null int64\n",
      "LD               300 non-null int64\n",
      "RC_X             300 non-null int64\n",
      "RC_Y             300 non-null int64\n",
      "RF_X_1           300 non-null int64\n",
      "RF_X_2           300 non-null int64\n",
      "RF_X_3           300 non-null int64\n",
      "RF_X_4           300 non-null int64\n",
      "RF_X_5           300 non-null int64\n",
      "RF_Y_1           300 non-null int64\n",
      "RF_Y_2           300 non-null int64\n",
      "RF_Y_3           300 non-null int64\n",
      "RF_Y_4           300 non-null int64\n",
      "RF_Y_5           300 non-null int64\n",
      "RD               300 non-null int64\n",
      "Gesture_Class    300 non-null int64\n",
      "Gesture_Name     300 non-null object\n",
      "dtypes: int64(28), object(1)\n",
      "memory usage: 66.8+ KB\n"
     ]
    }
   ],
   "source": [
    "dataset.info()"
   ]
  },
  {
   "cell_type": "code",
   "execution_count": 5,
   "metadata": {},
   "outputs": [
    {
     "data": {
      "text/plain": [
       "Unnamed: 0       0\n",
       "LC_X             0\n",
       "LC_Y             0\n",
       "LF_X_1           0\n",
       "LF_X_2           0\n",
       "LF_X_3           0\n",
       "LF_X_4           0\n",
       "LF_X_5           0\n",
       "LF_Y_1           0\n",
       "LF_Y_2           0\n",
       "LF_Y_3           0\n",
       "LF_Y_4           0\n",
       "LF_Y_5           0\n",
       "LD               0\n",
       "RC_X             0\n",
       "RC_Y             0\n",
       "RF_X_1           0\n",
       "RF_X_2           0\n",
       "RF_X_3           0\n",
       "RF_X_4           0\n",
       "RF_X_5           0\n",
       "RF_Y_1           0\n",
       "RF_Y_2           0\n",
       "RF_Y_3           0\n",
       "RF_Y_4           0\n",
       "RF_Y_5           0\n",
       "RD               0\n",
       "Gesture_Class    0\n",
       "Gesture_Name     0\n",
       "dtype: int64"
      ]
     },
     "execution_count": 5,
     "metadata": {},
     "output_type": "execute_result"
    }
   ],
   "source": [
    "dataset.isnull().sum()"
   ]
  },
  {
   "cell_type": "code",
   "execution_count": 6,
   "metadata": {},
   "outputs": [
    {
     "data": {
      "text/plain": [
       "<matplotlib.axes._subplots.AxesSubplot at 0x10c93d90>"
      ]
     },
     "execution_count": 6,
     "metadata": {},
     "output_type": "execute_result"
    },
    {
     "data": {
      "image/png": "[encoded data removed]",
      "text/plain": [
       "<Figure size 432x288 with 1 Axes>"
      ]
     },
     "metadata": {
      "needs_background": "light"
     },
     "output_type": "display_data"
    }
   ],
   "source": [
    "sb.countplot(x=\"Gesture_Name\" ,data=dataset,palette='hls')"
   ]
  },
  {
   "cell_type": "code",
   "execution_count": 7,
   "metadata": {},
   "outputs": [
    {
     "data": {
      "text/plain": [
       "<matplotlib.axes._subplots.AxesSubplot at 0x121ac310>"
      ]
     },
     "execution_count": 7,
     "metadata": {},
     "output_type": "execute_result"
    },
    {
     "data": {
      "image/png": "[encoded data removed]",
      "text/plain": [
       "<Figure size 432x288 with 1 Axes>"
      ]
     },
     "metadata": {
      "needs_background": "light"
     },
     "output_type": "display_data"
    }
   ],
   "source": [
    "sb.countplot(x=\"Gesture_Class\" ,data=dataset,palette='hls')"
   ]
  },
  {
   "cell_type": "code",
   "execution_count": 8,
   "metadata": {},
   "outputs": [
    {
     "data": {
      "text/html": [
       "<div>\n",
       "<style scoped>\n",
       "    .dataframe tbody tr th:only-of-type {\n",
       "        vertical-align: middle;\n",
       "    }\n",
       "\n",
       "    .dataframe tbody tr th {\n",
       "        vertical-align: top;\n",
       "    }\n",
       "\n",
       "    .dataframe thead th {\n",
       "        text-align: right;\n",
       "    }\n",
       "</style>\n",
       "<table border=\"1\" class=\"dataframe\">\n",
       "  <thead>\n",
       "    <tr style=\"text-align: right;\">\n",
       "      <th></th>\n",
       "      <th>Unnamed: 0</th>\n",
       "      <th>LC_X</th>\n",
       "      <th>LC_Y</th>\n",
       "      <th>LF_X_1</th>\n",
       "      <th>LF_X_2</th>\n",
       "      <th>LF_X_3</th>\n",
       "      <th>LF_X_4</th>\n",
       "      <th>LF_X_5</th>\n",
       "      <th>LF_Y_1</th>\n",
       "      <th>LF_Y_2</th>\n",
       "      <th>...</th>\n",
       "      <th>RF_X_3</th>\n",
       "      <th>RF_X_4</th>\n",
       "      <th>RF_X_5</th>\n",
       "      <th>RF_Y_1</th>\n",
       "      <th>RF_Y_2</th>\n",
       "      <th>RF_Y_3</th>\n",
       "      <th>RF_Y_4</th>\n",
       "      <th>RF_Y_5</th>\n",
       "      <th>RD</th>\n",
       "      <th>Gesture_Class</th>\n",
       "    </tr>\n",
       "  </thead>\n",
       "  <tbody>\n",
       "    <tr>\n",
       "      <th>count</th>\n",
       "      <td>300.000000</td>\n",
       "      <td>300.000000</td>\n",
       "      <td>300.000000</td>\n",
       "      <td>300.000000</td>\n",
       "      <td>300.000000</td>\n",
       "      <td>300.000000</td>\n",
       "      <td>300.000000</td>\n",
       "      <td>300.000000</td>\n",
       "      <td>300.000000</td>\n",
       "      <td>300.000000</td>\n",
       "      <td>...</td>\n",
       "      <td>300.000000</td>\n",
       "      <td>300.000000</td>\n",
       "      <td>300.000000</td>\n",
       "      <td>300.000000</td>\n",
       "      <td>300.000000</td>\n",
       "      <td>300.000000</td>\n",
       "      <td>300.000000</td>\n",
       "      <td>300.000000</td>\n",
       "      <td>300.000000</td>\n",
       "      <td>300.000000</td>\n",
       "    </tr>\n",
       "    <tr>\n",
       "      <th>mean</th>\n",
       "      <td>149.500000</td>\n",
       "      <td>0.896667</td>\n",
       "      <td>0.276667</td>\n",
       "      <td>0.466667</td>\n",
       "      <td>0.363333</td>\n",
       "      <td>0.196667</td>\n",
       "      <td>0.150000</td>\n",
       "      <td>0.560000</td>\n",
       "      <td>0.130000</td>\n",
       "      <td>0.293333</td>\n",
       "      <td>...</td>\n",
       "      <td>0.346667</td>\n",
       "      <td>-0.116667</td>\n",
       "      <td>0.426667</td>\n",
       "      <td>-0.006667</td>\n",
       "      <td>0.530000</td>\n",
       "      <td>0.000000</td>\n",
       "      <td>0.360000</td>\n",
       "      <td>-0.120000</td>\n",
       "      <td>-0.626667</td>\n",
       "      <td>2.500000</td>\n",
       "    </tr>\n",
       "    <tr>\n",
       "      <th>std</th>\n",
       "      <td>86.746758</td>\n",
       "      <td>16.095846</td>\n",
       "      <td>12.005299</td>\n",
       "      <td>9.557547</td>\n",
       "      <td>6.684329</td>\n",
       "      <td>8.431387</td>\n",
       "      <td>6.077606</td>\n",
       "      <td>8.025028</td>\n",
       "      <td>5.431215</td>\n",
       "      <td>7.573538</td>\n",
       "      <td>...</td>\n",
       "      <td>4.669673</td>\n",
       "      <td>1.618163</td>\n",
       "      <td>3.822739</td>\n",
       "      <td>1.615132</td>\n",
       "      <td>3.526645</td>\n",
       "      <td>1.311131</td>\n",
       "      <td>2.509594</td>\n",
       "      <td>1.043662</td>\n",
       "      <td>2.820248</td>\n",
       "      <td>1.710679</td>\n",
       "    </tr>\n",
       "    <tr>\n",
       "      <th>min</th>\n",
       "      <td>0.000000</td>\n",
       "      <td>-29.000000</td>\n",
       "      <td>-29.000000</td>\n",
       "      <td>-19.000000</td>\n",
       "      <td>-18.000000</td>\n",
       "      <td>-21.000000</td>\n",
       "      <td>-18.000000</td>\n",
       "      <td>-20.000000</td>\n",
       "      <td>-14.000000</td>\n",
       "      <td>-20.000000</td>\n",
       "      <td>...</td>\n",
       "      <td>-13.000000</td>\n",
       "      <td>-7.000000</td>\n",
       "      <td>-10.000000</td>\n",
       "      <td>-6.000000</td>\n",
       "      <td>-12.000000</td>\n",
       "      <td>-6.000000</td>\n",
       "      <td>-15.000000</td>\n",
       "      <td>-7.000000</td>\n",
       "      <td>-14.000000</td>\n",
       "      <td>0.000000</td>\n",
       "    </tr>\n",
       "    <tr>\n",
       "      <th>25%</th>\n",
       "      <td>74.750000</td>\n",
       "      <td>-14.000000</td>\n",
       "      <td>-5.000000</td>\n",
       "      <td>-7.000000</td>\n",
       "      <td>-3.000000</td>\n",
       "      <td>-5.250000</td>\n",
       "      <td>-3.000000</td>\n",
       "      <td>-5.000000</td>\n",
       "      <td>-3.000000</td>\n",
       "      <td>-4.000000</td>\n",
       "      <td>...</td>\n",
       "      <td>0.000000</td>\n",
       "      <td>0.000000</td>\n",
       "      <td>0.000000</td>\n",
       "      <td>0.000000</td>\n",
       "      <td>0.000000</td>\n",
       "      <td>0.000000</td>\n",
       "      <td>0.000000</td>\n",
       "      <td>0.000000</td>\n",
       "      <td>0.000000</td>\n",
       "      <td>1.000000</td>\n",
       "    </tr>\n",
       "    <tr>\n",
       "      <th>50%</th>\n",
       "      <td>149.500000</td>\n",
       "      <td>1.000000</td>\n",
       "      <td>-1.000000</td>\n",
       "      <td>1.000000</td>\n",
       "      <td>0.000000</td>\n",
       "      <td>0.000000</td>\n",
       "      <td>0.000000</td>\n",
       "      <td>0.500000</td>\n",
       "      <td>0.000000</td>\n",
       "      <td>0.000000</td>\n",
       "      <td>...</td>\n",
       "      <td>0.000000</td>\n",
       "      <td>0.000000</td>\n",
       "      <td>0.000000</td>\n",
       "      <td>0.000000</td>\n",
       "      <td>0.000000</td>\n",
       "      <td>0.000000</td>\n",
       "      <td>0.000000</td>\n",
       "      <td>0.000000</td>\n",
       "      <td>0.000000</td>\n",
       "      <td>2.500000</td>\n",
       "    </tr>\n",
       "    <tr>\n",
       "      <th>75%</th>\n",
       "      <td>224.250000</td>\n",
       "      <td>16.000000</td>\n",
       "      <td>7.000000</td>\n",
       "      <td>7.000000</td>\n",
       "      <td>3.000000</td>\n",
       "      <td>6.000000</td>\n",
       "      <td>3.000000</td>\n",
       "      <td>6.000000</td>\n",
       "      <td>2.000000</td>\n",
       "      <td>5.000000</td>\n",
       "      <td>...</td>\n",
       "      <td>0.000000</td>\n",
       "      <td>0.000000</td>\n",
       "      <td>0.000000</td>\n",
       "      <td>0.000000</td>\n",
       "      <td>0.000000</td>\n",
       "      <td>0.000000</td>\n",
       "      <td>0.000000</td>\n",
       "      <td>0.000000</td>\n",
       "      <td>0.000000</td>\n",
       "      <td>4.000000</td>\n",
       "    </tr>\n",
       "    <tr>\n",
       "      <th>max</th>\n",
       "      <td>299.000000</td>\n",
       "      <td>29.000000</td>\n",
       "      <td>29.000000</td>\n",
       "      <td>22.000000</td>\n",
       "      <td>23.000000</td>\n",
       "      <td>22.000000</td>\n",
       "      <td>21.000000</td>\n",
       "      <td>22.000000</td>\n",
       "      <td>22.000000</td>\n",
       "      <td>22.000000</td>\n",
       "      <td>...</td>\n",
       "      <td>18.000000</td>\n",
       "      <td>7.000000</td>\n",
       "      <td>19.000000</td>\n",
       "      <td>7.000000</td>\n",
       "      <td>19.000000</td>\n",
       "      <td>6.000000</td>\n",
       "      <td>12.000000</td>\n",
       "      <td>4.000000</td>\n",
       "      <td>9.000000</td>\n",
       "      <td>5.000000</td>\n",
       "    </tr>\n",
       "  </tbody>\n",
       "</table>\n",
       "<p>8 rows × 28 columns</p>\n",
       "</div>"
      ],
      "text/plain": [
       "       Unnamed: 0        LC_X        LC_Y      LF_X_1      LF_X_2      LF_X_3  \\\n",
       "count  300.000000  300.000000  300.000000  300.000000  300.000000  300.000000   \n",
       "mean   149.500000    0.896667    0.276667    0.466667    0.363333    0.196667   \n",
       "std     86.746758   16.095846   12.005299    9.557547    6.684329    8.431387   \n",
       "min      0.000000  -29.000000  -29.000000  -19.000000  -18.000000  -21.000000   \n",
       "25%     74.750000  -14.000000   -5.000000   -7.000000   -3.000000   -5.250000   \n",
       "50%    149.500000    1.000000   -1.000000    1.000000    0.000000    0.000000   \n",
       "75%    224.250000   16.000000    7.000000    7.000000    3.000000    6.000000   \n",
       "max    299.000000   29.000000   29.000000   22.000000   23.000000   22.000000   \n",
       "\n",
       "           LF_X_4      LF_X_5      LF_Y_1      LF_Y_2  ...      RF_X_3  \\\n",
       "count  300.000000  300.000000  300.000000  300.000000  ...  300.000000   \n",
       "mean     0.150000    0.560000    0.130000    0.293333  ...    0.346667   \n",
       "std      6.077606    8.025028    5.431215    7.573538  ...    4.669673   \n",
       "min    -18.000000  -20.000000  -14.000000  -20.000000  ...  -13.000000   \n",
       "25%     -3.000000   -5.000000   -3.000000   -4.000000  ...    0.000000   \n",
       "50%      0.000000    0.500000    0.000000    0.000000  ...    0.000000   \n",
       "75%      3.000000    6.000000    2.000000    5.000000  ...    0.000000   \n",
       "max     21.000000   22.000000   22.000000   22.000000  ...   18.000000   \n",
       "\n",
       "           RF_X_4      RF_X_5      RF_Y_1      RF_Y_2      RF_Y_3      RF_Y_4  \\\n",
       "count  300.000000  300.000000  300.000000  300.000000  300.000000  300.000000   \n",
       "mean    -0.116667    0.426667   -0.006667    0.530000    0.000000    0.360000   \n",
       "std      1.618163    3.822739    1.615132    3.526645    1.311131    2.509594   \n",
       "min     -7.000000  -10.000000   -6.000000  -12.000000   -6.000000  -15.000000   \n",
       "25%      0.000000    0.000000    0.000000    0.000000    0.000000    0.000000   \n",
       "50%      0.000000    0.000000    0.000000    0.000000    0.000000    0.000000   \n",
       "75%      0.000000    0.000000    0.000000    0.000000    0.000000    0.000000   \n",
       "max      7.000000   19.000000    7.000000   19.000000    6.000000   12.000000   \n",
       "\n",
       "           RF_Y_5          RD  Gesture_Class  \n",
       "count  300.000000  300.000000     300.000000  \n",
       "mean    -0.120000   -0.626667       2.500000  \n",
       "std      1.043662    2.820248       1.710679  \n",
       "min     -7.000000  -14.000000       0.000000  \n",
       "25%      0.000000    0.000000       1.000000  \n",
       "50%      0.000000    0.000000       2.500000  \n",
       "75%      0.000000    0.000000       4.000000  \n",
       "max      4.000000    9.000000       5.000000  \n",
       "\n",
       "[8 rows x 28 columns]"
      ]
     },
     "execution_count": 8,
     "metadata": {},
     "output_type": "execute_result"
    }
   ],
   "source": [
    "dataset.describe()"
   ]
  },
  {
   "cell_type": "code",
   "execution_count": 10,
   "metadata": {},
   "outputs": [
    {
     "name": "stdout",
     "output_type": "stream",
     "text": [
      "['Unnamed: 0', 'LC_X', 'LC_Y', 'LF_X_1', 'LF_X_2', 'LF_X_3', 'LF_X_4', 'LF_X_5', 'LF_Y_1', 'LF_Y_2', 'LF_Y_3', 'LF_Y_4', 'LF_Y_5', 'LD', 'RC_X', 'RC_Y', 'RF_X_1', 'RF_X_2', 'RF_X_3', 'RF_X_4', 'RF_X_5', 'RF_Y_1', 'RF_Y_2', 'RF_Y_3', 'RF_Y_4', 'RF_Y_5', 'RD', 'Gesture_Class', 'Gesture_Name']\n"
     ]
    }
   ],
   "source": [
    "#different features\n",
    "cols = list(dataset)\n",
    "print(cols)"
   ]
  },
  {
   "cell_type": "code",
   "execution_count": null,
   "metadata": {},
   "outputs": [],
   "source": []
  }
 ],
 "metadata": {
  "kernelspec": {
   "display_name": "Python 3",
   "language": "python",
   "name": "python3"
  },
  "language_info": {
   "codemirror_mode": {
    "name": "ipython",
    "version": 3
   },
   "file_extension": ".py",
   "mimetype": "text/x-python",
   "name": "python",
   "nbconvert_exporter": "python",
   "pygments_lexer": "ipython3",
   "version": "3.7.0"
  }
 },
 "nbformat": 4,
 "nbformat_minor": 2
}
